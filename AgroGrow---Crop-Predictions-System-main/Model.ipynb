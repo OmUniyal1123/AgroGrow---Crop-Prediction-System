{
 "cells": [
  {
   "cell_type": "markdown",
   "id": "d05b68f0-3164-4510-983d-172ec475465e",
   "metadata": {},
   "source": [
    "# Importing libraries"
   ]
  },
  {
   "cell_type": "code",
   "execution_count": 24,
   "id": "3a688528-bdce-4776-8fc1-a6f27f47ab7c",
   "metadata": {},
   "outputs": [],
   "source": [
    "import pandas as pd\n",
    "import numpy as np\n",
    "\n",
    "import matplotlib.pyplot as plt\n",
    "import seaborn as sns\n",
    "\n",
    "from sklearn.preprocessing import LabelEncoder, StandardScaler\n",
    "from sklearn.model_selection import train_test_split\n",
    "from sklearn.linear_model import LogisticRegression\n",
    "from sklearn.ensemble import RandomForestClassifier\n",
    "from sklearn.svm import SVC"
   ]
  },
  {
   "cell_type": "markdown",
   "id": "6ea839b5-0f1b-43a0-b68d-76287d6cc65f",
   "metadata": {},
   "source": [
    "# Reading data"
   ]
  },
  {
   "cell_type": "code",
   "execution_count": 25,
   "id": "39be22ec-8193-47c0-b96d-c4052071d4fa",
   "metadata": {},
   "outputs": [],
   "source": [
    "data = pd.read_csv(\"./Dataset/Crop_recommendation.csv\")"
   ]
  },
  {
   "cell_type": "code",
   "execution_count": 26,
   "id": "80388533-1057-4fd2-a93e-147c2cb46b0d",
   "metadata": {},
   "outputs": [
    {
     "data": {
      "text/html": [
       "<div>\n",
       "<style scoped>\n",
       "    .dataframe tbody tr th:only-of-type {\n",
       "        vertical-align: middle;\n",
       "    }\n",
       "\n",
       "    .dataframe tbody tr th {\n",
       "        vertical-align: top;\n",
       "    }\n",
       "\n",
       "    .dataframe thead th {\n",
       "        text-align: right;\n",
       "    }\n",
       "</style>\n",
       "<table border=\"1\" class=\"dataframe\">\n",
       "  <thead>\n",
       "    <tr style=\"text-align: right;\">\n",
       "      <th></th>\n",
       "      <th>N</th>\n",
       "      <th>P</th>\n",
       "      <th>K</th>\n",
       "      <th>temperature</th>\n",
       "      <th>humidity</th>\n",
       "      <th>ph</th>\n",
       "      <th>rainfall</th>\n",
       "      <th>label</th>\n",
       "    </tr>\n",
       "  </thead>\n",
       "  <tbody>\n",
       "    <tr>\n",
       "      <th>0</th>\n",
       "      <td>90</td>\n",
       "      <td>42</td>\n",
       "      <td>43</td>\n",
       "      <td>20.879744</td>\n",
       "      <td>82.002744</td>\n",
       "      <td>6.502985</td>\n",
       "      <td>202.935536</td>\n",
       "      <td>rice</td>\n",
       "    </tr>\n",
       "    <tr>\n",
       "      <th>1</th>\n",
       "      <td>85</td>\n",
       "      <td>58</td>\n",
       "      <td>41</td>\n",
       "      <td>21.770462</td>\n",
       "      <td>80.319644</td>\n",
       "      <td>7.038096</td>\n",
       "      <td>226.655537</td>\n",
       "      <td>rice</td>\n",
       "    </tr>\n",
       "    <tr>\n",
       "      <th>2</th>\n",
       "      <td>60</td>\n",
       "      <td>55</td>\n",
       "      <td>44</td>\n",
       "      <td>23.004459</td>\n",
       "      <td>82.320763</td>\n",
       "      <td>7.840207</td>\n",
       "      <td>263.964248</td>\n",
       "      <td>rice</td>\n",
       "    </tr>\n",
       "    <tr>\n",
       "      <th>3</th>\n",
       "      <td>74</td>\n",
       "      <td>35</td>\n",
       "      <td>40</td>\n",
       "      <td>26.491096</td>\n",
       "      <td>80.158363</td>\n",
       "      <td>6.980401</td>\n",
       "      <td>242.864034</td>\n",
       "      <td>rice</td>\n",
       "    </tr>\n",
       "    <tr>\n",
       "      <th>4</th>\n",
       "      <td>78</td>\n",
       "      <td>42</td>\n",
       "      <td>42</td>\n",
       "      <td>20.130175</td>\n",
       "      <td>81.604873</td>\n",
       "      <td>7.628473</td>\n",
       "      <td>262.717340</td>\n",
       "      <td>rice</td>\n",
       "    </tr>\n",
       "    <tr>\n",
       "      <th>5</th>\n",
       "      <td>69</td>\n",
       "      <td>37</td>\n",
       "      <td>42</td>\n",
       "      <td>23.058049</td>\n",
       "      <td>83.370118</td>\n",
       "      <td>7.073454</td>\n",
       "      <td>251.055000</td>\n",
       "      <td>rice</td>\n",
       "    </tr>\n",
       "    <tr>\n",
       "      <th>6</th>\n",
       "      <td>69</td>\n",
       "      <td>55</td>\n",
       "      <td>38</td>\n",
       "      <td>22.708838</td>\n",
       "      <td>82.639414</td>\n",
       "      <td>5.700806</td>\n",
       "      <td>271.324860</td>\n",
       "      <td>rice</td>\n",
       "    </tr>\n",
       "    <tr>\n",
       "      <th>7</th>\n",
       "      <td>94</td>\n",
       "      <td>53</td>\n",
       "      <td>40</td>\n",
       "      <td>20.277744</td>\n",
       "      <td>82.894086</td>\n",
       "      <td>5.718627</td>\n",
       "      <td>241.974195</td>\n",
       "      <td>rice</td>\n",
       "    </tr>\n",
       "    <tr>\n",
       "      <th>8</th>\n",
       "      <td>89</td>\n",
       "      <td>54</td>\n",
       "      <td>38</td>\n",
       "      <td>24.515881</td>\n",
       "      <td>83.535216</td>\n",
       "      <td>6.685346</td>\n",
       "      <td>230.446236</td>\n",
       "      <td>rice</td>\n",
       "    </tr>\n",
       "    <tr>\n",
       "      <th>9</th>\n",
       "      <td>68</td>\n",
       "      <td>58</td>\n",
       "      <td>38</td>\n",
       "      <td>23.223974</td>\n",
       "      <td>83.033227</td>\n",
       "      <td>6.336254</td>\n",
       "      <td>221.209196</td>\n",
       "      <td>rice</td>\n",
       "    </tr>\n",
       "  </tbody>\n",
       "</table>\n",
       "</div>"
      ],
      "text/plain": [
       "    N   P   K  temperature   humidity        ph    rainfall label\n",
       "0  90  42  43    20.879744  82.002744  6.502985  202.935536  rice\n",
       "1  85  58  41    21.770462  80.319644  7.038096  226.655537  rice\n",
       "2  60  55  44    23.004459  82.320763  7.840207  263.964248  rice\n",
       "3  74  35  40    26.491096  80.158363  6.980401  242.864034  rice\n",
       "4  78  42  42    20.130175  81.604873  7.628473  262.717340  rice\n",
       "5  69  37  42    23.058049  83.370118  7.073454  251.055000  rice\n",
       "6  69  55  38    22.708838  82.639414  5.700806  271.324860  rice\n",
       "7  94  53  40    20.277744  82.894086  5.718627  241.974195  rice\n",
       "8  89  54  38    24.515881  83.535216  6.685346  230.446236  rice\n",
       "9  68  58  38    23.223974  83.033227  6.336254  221.209196  rice"
      ]
     },
     "execution_count": 26,
     "metadata": {},
     "output_type": "execute_result"
    }
   ],
   "source": [
    "data.head(10)"
   ]
  },
  {
   "cell_type": "code",
   "execution_count": 27,
   "id": "a154fd7d-a302-4ebb-9832-6d99810f2458",
   "metadata": {},
   "outputs": [
    {
     "data": {
      "text/plain": [
       "(2200, 8)"
      ]
     },
     "execution_count": 27,
     "metadata": {},
     "output_type": "execute_result"
    }
   ],
   "source": [
    "data.shape"
   ]
  },
  {
   "cell_type": "code",
   "execution_count": 28,
   "id": "b64b2132-0014-4588-9c4c-9487e7830766",
   "metadata": {},
   "outputs": [
    {
     "data": {
      "text/plain": [
       "N              0\n",
       "P              0\n",
       "K              0\n",
       "temperature    0\n",
       "humidity       0\n",
       "ph             0\n",
       "rainfall       0\n",
       "label          0\n",
       "dtype: int64"
      ]
     },
     "execution_count": 28,
     "metadata": {},
     "output_type": "execute_result"
    }
   ],
   "source": [
    "data.isnull().sum()"
   ]
  },
  {
   "cell_type": "markdown",
   "id": "2862718b-1cac-462c-bdab-d3905e171204",
   "metadata": {},
   "source": [
    "# Plotting Graphs"
   ]
  },
  {
   "cell_type": "markdown",
   "id": "091264ab-5741-4adf-b582-df09ea23183e",
   "metadata": {},
   "source": [
    "### 1. Nitrogen"
   ]
  },
  {
   "cell_type": "code",
   "execution_count": 29,
   "id": "5d3b145b-3b05-413b-baa1-b6e5e3abcc0c",
   "metadata": {},
   "outputs": [
    {
     "data": {
      "image/png": "[encoded data removed]",
      "text/plain": [
       "<Figure size 800x500 with 1 Axes>"
      ]
     },
     "metadata": {},
     "output_type": "display_data"
    }
   ],
   "source": [
    "plt.figure(figsize=(8, 5))\n",
    "sns.histplot(data['N'], bins=10, color='green')\n",
    "plt.title('Histogram of Nitrogen Levels (N)', fontsize=14)\n",
    "plt.xlabel('Nitrogen (N)', fontsize=12)\n",
    "plt.ylabel('Frequency', fontsize=12)\n",
    "plt.show()"
   ]
  },
  {
   "cell_type": "markdown",
   "id": "0478fc4d-d939-4378-a6bb-9b1d25eaf47b",
   "metadata": {},
   "source": [
    "### 2. Potassium"
   ]
  },
  {
   "cell_type": "code",
   "execution_count": 30,
   "id": "09edcda5-bbe2-4330-b58a-b75313a2d969",
   "metadata": {},
   "outputs": [
    {
     "data": {
      "image/png": "[encoded data removed]",
      "text/plain": [
       "<Figure size 800x500 with 1 Axes>"
      ]
     },
     "metadata": {},
     "output_type": "display_data"
    }
   ],
   "source": [
    "plt.figure(figsize=(8, 5))\n",
    "sns.histplot(data['K'], bins=10, color='green')\n",
    "plt.title('Histogram of Potassium Levels (K)', fontsize=14)\n",
    "plt.xlabel('Potassium (K)', fontsize=12)\n",
    "plt.ylabel('Frequency', fontsize=12)\n",
    "plt.show()"
   ]
  },
  {
   "cell_type": "markdown",
   "id": "c216b441-e474-4f30-aa7b-fed022a42af1",
   "metadata": {},
   "source": [
    "### 3. Phosphorous"
   ]
  },
  {
   "cell_type": "code",
   "execution_count": 31,
   "id": "a0d49982-7b95-4648-b20b-61064feee2e9",
   "metadata": {},
   "outputs": [
    {
     "data": {
      "image/png": "[encoded data removed]",
      "text/plain": [
       "<Figure size 800x500 with 1 Axes>"
      ]
     },
     "metadata": {},
     "output_type": "display_data"
    }
   ],
   "source": [
    "plt.figure(figsize=(8, 5))\n",
    "sns.histplot(data['P'], bins=10, color='green')\n",
    "plt.title('Histogram of Phosphorous Levels (P)', fontsize=14)\n",
    "plt.xlabel('Phosphorous (P)', fontsize=12)\n",
    "plt.ylabel('Frequency', fontsize=12)\n",
    "plt.show()"
   ]
  },
  {
   "cell_type": "markdown",
   "id": "11995582-bf49-4485-8f7f-f1b64bf3d208",
   "metadata": {},
   "source": [
    "### 4. Temperature"
   ]
  },
  {
   "cell_type": "code",
   "execution_count": 32,
   "id": "5c396691-50e3-43cc-a59c-b6cddbdd9ee0",
   "metadata": {},
   "outputs": [
    {
     "data": {
      "text/plain": [
       "<Axes: xlabel='temperature'>"
      ]
     },
     "execution_count": 32,
     "metadata": {},
     "output_type": "execute_result"
    },
    {
     "data": {
      "image/png": "[encoded data removed]",
      "text/plain": [
       "<Figure size 800x500 with 1 Axes>"
      ]
     },
     "metadata": {},
     "output_type": "display_data"
    }
   ],
   "source": [
    "plt.figure(figsize=(8, 5))\n",
    "sns.boxplot(x=data.temperature)"
   ]
  },
  {
   "cell_type": "markdown",
   "id": "f360e4b8-6652-4947-91f0-52de58d9ef91",
   "metadata": {},
   "source": [
    "### 5. Humidity"
   ]
  },
  {
   "cell_type": "code",
   "execution_count": 33,
   "id": "5885fe6f-6b13-440c-9d42-2fb9729ba5ec",
   "metadata": {},
   "outputs": [
    {
     "data": {
      "image/png": "[encoded data removed]",
      "text/plain": [
       "<Figure size 800x500 with 1 Axes>"
      ]
     },
     "metadata": {},
     "output_type": "display_data"
    }
   ],
   "source": [
    "plt.figure(figsize=(8, 5))\n",
    "sns.boxplot(x=data.humidity);"
   ]
  },
  {
   "cell_type": "markdown",
   "id": "9eb56f04-2d29-4d07-b4c3-1eef9ab151da",
   "metadata": {},
   "source": [
    "### 6. PH for crops"
   ]
  },
  {
   "cell_type": "code",
   "execution_count": 34,
   "id": "e80aef44-eb02-45c5-80ab-18d79131fc4c",
   "metadata": {},
   "outputs": [
    {
     "data": {
      "image/png": "[encoded data removed]",
      "text/plain": [
       "<Figure size 800x500 with 1 Axes>"
      ]
     },
     "metadata": {},
     "output_type": "display_data"
    }
   ],
   "source": [
    "plt.figure(figsize=(8, 5))\n",
    "sns.histplot(data['ph'], bins=10, color='green')\n",
    "plt.title('Histogram of PH Levels', fontsize=14)\n",
    "plt.xlabel('PH', fontsize=12)\n",
    "plt.ylabel('Frequency', fontsize=12)\n",
    "plt.show()"
   ]
  },
  {
   "cell_type": "markdown",
   "id": "03d44a98-fa22-4039-9da2-f2bdd2cc6edc",
   "metadata": {},
   "source": [
    "### 7. Rainfall"
   ]
  },
  {
   "cell_type": "code",
   "execution_count": 35,
   "id": "56d914be-eb4b-4af3-b430-2f2c210286ba",
   "metadata": {},
   "outputs": [
    {
     "data": {
      "image/png": "[encoded data removed]",
      "text/plain": [
       "<Figure size 800x500 with 1 Axes>"
      ]
     },
     "metadata": {},
     "output_type": "display_data"
    }
   ],
   "source": [
    "plt.figure(figsize=(8, 5))\n",
    "sns.histplot(data['rainfall'], bins=10, color='green')\n",
    "plt.title('Histogram of Rainfall Levels', fontsize=14)\n",
    "plt.xlabel('Rainfall', fontsize=12)\n",
    "plt.ylabel('Frequency', fontsize=12)\n",
    "plt.show()"
   ]
  },
  {
   "cell_type": "markdown",
   "id": "6eea344a-4d36-414a-8bca-b53bf2f84448",
   "metadata": {},
   "source": [
    "# Split Data"
   ]
  },
  {
   "cell_type": "code",
   "execution_count": 36,
   "id": "7f3b34a3-6599-4e2a-98bb-4372a78990d0",
   "metadata": {},
   "outputs": [],
   "source": [
    "x = data.iloc[:,:-1] # features\n",
    "y = data.iloc[:,-1] # labels"
   ]
  },
  {
   "cell_type": "code",
   "execution_count": 37,
   "id": "51abba12-efd2-4287-9bb5-08b2ab71f28c",
   "metadata": {},
   "outputs": [],
   "source": [
    "x_train, x_test, y_train, y_test = train_test_split(x, y, test_size = 0.2, random_state = 42)"
   ]
  },
  {
   "cell_type": "markdown",
   "id": "ec6b948f-ebcb-4db9-843b-cd635161fb96",
   "metadata": {},
   "source": [
    "# Models"
   ]
  },
  {
   "cell_type": "markdown",
   "id": "9a4a7ce3-44d8-4173-bc6f-3d0eb12d02f3",
   "metadata": {},
   "source": [
    "### Logistic Regression"
   ]
  },
  {
   "cell_type": "code",
   "execution_count": 38,
   "id": "44ccc48e-38dc-4cc0-aef7-89f5cbbfade6",
   "metadata": {},
   "outputs": [
    {
     "name": "stdout",
     "output_type": "stream",
     "text": [
      "Accuracy Score for Logistic Regression is : 94.77272727272728 %\n"
     ]
    },
    {
     "name": "stderr",
     "output_type": "stream",
     "text": [
      "c:\\Users\\omuni\\AppData\\Local\\Programs\\Python\\Python312\\Lib\\site-packages\\sklearn\\linear_model\\_logistic.py:469: ConvergenceWarning: lbfgs failed to converge (status=1):\n",
      "STOP: TOTAL NO. of ITERATIONS REACHED LIMIT.\n",
      "\n",
      "Increase the number of iterations (max_iter) or scale the data as shown in:\n",
      "    https://scikit-learn.org/stable/modules/preprocessing.html\n",
      "Please also refer to the documentation for alternative solver options:\n",
      "    https://scikit-learn.org/stable/modules/linear_model.html#logistic-regression\n",
      "  n_iter_i = _check_optimize_result(\n"
     ]
    }
   ],
   "source": [
    "logistic_model = LogisticRegression(max_iter = 700)\n",
    "logistic_model.fit(x_train, y_train)\n",
    "print(f\"Accuracy Score for Logistic Regression is : {logistic_model.score(x_test, y_test) * 100} %\") "
   ]
  },
  {
   "cell_type": "markdown",
   "id": "9222e3b4-a96d-4cc9-88a9-c0cfa8174e49",
   "metadata": {},
   "source": [
    "### Random Forest"
   ]
  },
  {
   "cell_type": "code",
   "execution_count": 39,
   "id": "77fb4a39-4d5c-49b5-bbc0-9ad8aa581aaf",
   "metadata": {},
   "outputs": [
    {
     "name": "stdout",
     "output_type": "stream",
     "text": [
      "Accuracy Score for Random Forest is : 99.31818181818181 %\n"
     ]
    }
   ],
   "source": [
    "random_forest = RandomForestClassifier()\n",
    "random_forest.fit(x_train, y_train)\n",
    "print(f\"Accuracy Score for Random Forest is : {random_forest.score(x_test, y_test) * 100} %\") "
   ]
  },
  {
   "cell_type": "markdown",
   "id": "db3bf7eb-bd95-42d9-ae9b-3b481b55864a",
   "metadata": {},
   "source": [
    "### Support Vector Machine"
   ]
  },
  {
   "cell_type": "code",
   "execution_count": 40,
   "id": "eeace50f-24e5-4a9a-82ec-e0d252305e7c",
   "metadata": {},
   "outputs": [
    {
     "name": "stdout",
     "output_type": "stream",
     "text": [
      "Accuracy Score for Support Vector Machine is : 96.13636363636363 %\n"
     ]
    }
   ],
   "source": [
    "svc = SVC()\n",
    "svc.fit(x_train, y_train)\n",
    "print(f\"Accuracy Score for Support Vector Machine is : {svc.score(x_test, y_test) * 100} %\") "
   ]
  },
  {
   "cell_type": "markdown",
   "id": "dcc1d46e-002e-42f3-a7c6-19db8dadcf86",
   "metadata": {},
   "source": [
    "## Random Forest gives the highest accuracy here."
   ]
  },
  {
   "cell_type": "code",
   "execution_count": 41,
   "id": "f5d8fced-5dee-4fba-a249-1576cbf60146",
   "metadata": {},
   "outputs": [
    {
     "name": "stdout",
     "output_type": "stream",
     "text": [
      "['muskmelon' 'watermelon' 'papaya' 'papaya' 'apple' 'mango' 'apple'\n",
      " 'mothbeans' 'mungbean' 'lentil' 'blackgram' 'coconut' 'pomegranate'\n",
      " 'jute' 'coconut' 'pomegranate' 'apple' 'maize' 'papaya' 'muskmelon'\n",
      " 'coffee' 'papaya' 'orange' 'papaya' 'chickpea' 'jute' 'mungbean' 'orange'\n",
      " 'pigeonpeas' 'rice' 'pomegranate' 'mothbeans' 'jute' 'lentil' 'jute'\n",
      " 'blackgram' 'jute' 'chickpea' 'chickpea' 'kidneybeans' 'papaya' 'mango'\n",
      " 'blackgram' 'maize' 'mungbean' 'maize' 'pigeonpeas' 'coconut' 'muskmelon'\n",
      " 'maize' 'blackgram' 'coffee' 'grapes' 'mungbean' 'coffee' 'kidneybeans'\n",
      " 'cotton' 'apple' 'banana' 'blackgram' 'watermelon' 'coconut' 'lentil'\n",
      " 'orange' 'papaya' 'pigeonpeas' 'orange' 'rice' 'muskmelon' 'pigeonpeas'\n",
      " 'muskmelon' 'coconut' 'jute' 'banana' 'blackgram' 'papaya' 'banana'\n",
      " 'cotton' 'watermelon' 'orange' 'coffee' 'chickpea' 'rice' 'mothbeans'\n",
      " 'orange' 'mango' 'coffee' 'mothbeans' 'blackgram' 'pomegranate' 'maize'\n",
      " 'mothbeans' 'cotton' 'papaya' 'pigeonpeas' 'mothbeans' 'kidneybeans'\n",
      " 'coffee' 'blackgram' 'lentil' 'coconut' 'rice' 'orange' 'muskmelon'\n",
      " 'watermelon' 'kidneybeans' 'watermelon' 'banana' 'pigeonpeas' 'mothbeans'\n",
      " 'banana' 'jute' 'cotton' 'pomegranate' 'pigeonpeas' 'chickpea' 'maize'\n",
      " 'coconut' 'pomegranate' 'rice' 'pigeonpeas' 'grapes' 'blackgram'\n",
      " 'coconut' 'chickpea' 'blackgram' 'coconut' 'maize' 'banana' 'mothbeans'\n",
      " 'banana' 'kidneybeans' 'pomegranate' 'chickpea' 'coconut' 'orange'\n",
      " 'pigeonpeas' 'banana' 'banana' 'apple' 'kidneybeans' 'muskmelon'\n",
      " 'mungbean' 'mothbeans' 'coconut' 'maize' 'apple' 'coconut' 'kidneybeans'\n",
      " 'mothbeans' 'mungbean' 'lentil' 'watermelon' 'mungbean' 'pigeonpeas'\n",
      " 'pigeonpeas' 'pigeonpeas' 'kidneybeans' 'maize' 'jute' 'chickpea' 'apple'\n",
      " 'orange' 'cotton' 'rice' 'coconut' 'grapes' 'lentil' 'watermelon'\n",
      " 'grapes' 'grapes' 'blackgram' 'pomegranate' 'chickpea' 'coconut' 'maize'\n",
      " 'lentil' 'grapes' 'watermelon' 'jute' 'coffee' 'coffee' 'kidneybeans'\n",
      " 'jute' 'mothbeans' 'kidneybeans' 'banana' 'kidneybeans' 'coconut'\n",
      " 'papaya' 'papaya' 'mungbean' 'mango' 'pomegranate' 'watermelon'\n",
      " 'kidneybeans' 'maize' 'apple' 'blackgram' 'chickpea' 'grapes' 'grapes'\n",
      " 'banana' 'cotton' 'rice' 'pomegranate' 'mungbean' 'banana' 'jute'\n",
      " 'mungbean' 'maize' 'chickpea' 'chickpea' 'chickpea' 'apple' 'rice'\n",
      " 'kidneybeans' 'papaya' 'coffee' 'blackgram' 'kidneybeans' 'mango' 'mango'\n",
      " 'coconut' 'papaya' 'apple' 'chickpea' 'pomegranate' 'chickpea'\n",
      " 'muskmelon' 'apple' 'muskmelon' 'muskmelon' 'mango' 'mango' 'cotton'\n",
      " 'coconut' 'pomegranate' 'rice' 'muskmelon' 'coffee' 'papaya' 'mothbeans'\n",
      " 'maize' 'mango' 'muskmelon' 'pigeonpeas' 'mungbean' 'coffee' 'grapes'\n",
      " 'coconut' 'cotton' 'pigeonpeas' 'rice' 'apple' 'pomegranate' 'coffee'\n",
      " 'chickpea' 'cotton' 'jute' 'mango' 'banana' 'papaya' 'apple' 'chickpea'\n",
      " 'rice' 'pigeonpeas' 'mothbeans' 'mungbean' 'jute' 'pomegranate' 'grapes'\n",
      " 'mothbeans' 'jute' 'maize' 'coconut' 'maize' 'chickpea' 'banana' 'jute'\n",
      " 'coconut' 'jute' 'mango' 'muskmelon' 'apple' 'banana' 'pigeonpeas'\n",
      " 'blackgram' 'orange' 'chickpea' 'watermelon' 'banana' 'apple' 'chickpea'\n",
      " 'coffee' 'pigeonpeas' 'orange' 'apple' 'coconut' 'papaya' 'watermelon'\n",
      " 'mothbeans' 'papaya' 'chickpea' 'pomegranate' 'chickpea' 'papaya'\n",
      " 'lentil' 'apple' 'pomegranate' 'chickpea' 'mango' 'chickpea'\n",
      " 'pomegranate' 'watermelon' 'kidneybeans' 'mungbean' 'muskmelon'\n",
      " 'watermelon' 'kidneybeans' 'muskmelon' 'mango' 'jute' 'blackgram'\n",
      " 'chickpea' 'banana' 'blackgram' 'pigeonpeas' 'papaya' 'pigeonpeas'\n",
      " 'mungbean' 'coconut' 'cotton' 'grapes' 'apple' 'lentil' 'banana' 'jute'\n",
      " 'apple' 'pomegranate' 'apple' 'mungbean' 'muskmelon' 'coffee' 'coffee'\n",
      " 'pigeonpeas' 'jute' 'kidneybeans' 'banana' 'maize' 'jute' 'maize'\n",
      " 'pigeonpeas' 'mango' 'kidneybeans' 'pomegranate' 'watermelon' 'blackgram'\n",
      " 'maize' 'rice' 'mothbeans' 'kidneybeans' 'mango' 'cotton' 'papaya'\n",
      " 'mothbeans' 'cotton' 'mungbean' 'orange' 'jute' 'blackgram' 'mungbean'\n",
      " 'coffee' 'banana' 'pigeonpeas' 'papaya' 'apple' 'pomegranate' 'maize'\n",
      " 'mango' 'coconut' 'apple' 'lentil' 'jute' 'mothbeans' 'lentil' 'coconut'\n",
      " 'blackgram' 'jute' 'mungbean' 'cotton' 'watermelon' 'apple' 'grapes'\n",
      " 'coconut' 'grapes' 'watermelon' 'rice' 'mango' 'mango' 'coffee'\n",
      " 'pomegranate' 'banana' 'grapes' 'jute' 'orange' 'cotton' 'mango' 'papaya'\n",
      " 'muskmelon' 'mothbeans' 'jute' 'chickpea' 'mothbeans' 'pomegranate'\n",
      " 'watermelon' 'mothbeans' 'cotton' 'papaya' 'watermelon' 'lentil' 'rice'\n",
      " 'coconut' 'mothbeans' 'mothbeans' 'maize' 'rice' 'maize' 'coconut'\n",
      " 'orange' 'pomegranate' 'kidneybeans' 'watermelon' 'mungbean' 'blackgram'\n",
      " 'rice' 'rice' 'cotton' 'cotton' 'pigeonpeas']\n"
     ]
    }
   ],
   "source": [
    "y_pred = random_forest.predict(x_test)\n",
    "print(y_pred)"
   ]
  },
  {
   "cell_type": "code",
   "execution_count": 42,
   "id": "0710d8b3-157b-4c66-8857-14f62df3d6e6",
   "metadata": {},
   "outputs": [
    {
     "data": {
      "text/html": [
       "<div>\n",
       "<style scoped>\n",
       "    .dataframe tbody tr th:only-of-type {\n",
       "        vertical-align: middle;\n",
       "    }\n",
       "\n",
       "    .dataframe tbody tr th {\n",
       "        vertical-align: top;\n",
       "    }\n",
       "\n",
       "    .dataframe thead th {\n",
       "        text-align: right;\n",
       "    }\n",
       "</style>\n",
       "<table border=\"1\" class=\"dataframe\">\n",
       "  <thead>\n",
       "    <tr style=\"text-align: right;\">\n",
       "      <th></th>\n",
       "      <th>N</th>\n",
       "      <th>P</th>\n",
       "      <th>K</th>\n",
       "      <th>temperature</th>\n",
       "      <th>humidity</th>\n",
       "      <th>ph</th>\n",
       "      <th>rainfall</th>\n",
       "    </tr>\n",
       "  </thead>\n",
       "  <tbody>\n",
       "    <tr>\n",
       "      <th>1451</th>\n",
       "      <td>101</td>\n",
       "      <td>17</td>\n",
       "      <td>47</td>\n",
       "      <td>29.494014</td>\n",
       "      <td>94.729813</td>\n",
       "      <td>6.185053</td>\n",
       "      <td>26.308209</td>\n",
       "    </tr>\n",
       "    <tr>\n",
       "      <th>1334</th>\n",
       "      <td>98</td>\n",
       "      <td>8</td>\n",
       "      <td>51</td>\n",
       "      <td>26.179346</td>\n",
       "      <td>86.522581</td>\n",
       "      <td>6.259336</td>\n",
       "      <td>49.430510</td>\n",
       "    </tr>\n",
       "    <tr>\n",
       "      <th>1761</th>\n",
       "      <td>59</td>\n",
       "      <td>62</td>\n",
       "      <td>49</td>\n",
       "      <td>43.360515</td>\n",
       "      <td>93.351916</td>\n",
       "      <td>6.941497</td>\n",
       "      <td>114.778071</td>\n",
       "    </tr>\n",
       "    <tr>\n",
       "      <th>1735</th>\n",
       "      <td>44</td>\n",
       "      <td>60</td>\n",
       "      <td>55</td>\n",
       "      <td>34.280461</td>\n",
       "      <td>90.555616</td>\n",
       "      <td>6.825371</td>\n",
       "      <td>98.540477</td>\n",
       "    </tr>\n",
       "    <tr>\n",
       "      <th>1576</th>\n",
       "      <td>30</td>\n",
       "      <td>137</td>\n",
       "      <td>200</td>\n",
       "      <td>22.914300</td>\n",
       "      <td>90.704756</td>\n",
       "      <td>5.603413</td>\n",
       "      <td>118.604465</td>\n",
       "    </tr>\n",
       "  </tbody>\n",
       "</table>\n",
       "</div>"
      ],
      "text/plain": [
       "        N    P    K  temperature   humidity        ph    rainfall\n",
       "1451  101   17   47    29.494014  94.729813  6.185053   26.308209\n",
       "1334   98    8   51    26.179346  86.522581  6.259336   49.430510\n",
       "1761   59   62   49    43.360515  93.351916  6.941497  114.778071\n",
       "1735   44   60   55    34.280461  90.555616  6.825371   98.540477\n",
       "1576   30  137  200    22.914300  90.704756  5.603413  118.604465"
      ]
     },
     "execution_count": 42,
     "metadata": {},
     "output_type": "execute_result"
    }
   ],
   "source": [
    "x_test.head()"
   ]
  },
  {
   "cell_type": "code",
   "execution_count": 43,
   "id": "a1b48fa9-845e-4799-9893-54e94aea73b0",
   "metadata": {},
   "outputs": [
    {
     "name": "stdout",
     "output_type": "stream",
     "text": [
      "Predicted crop :  ['grapes']\n"
     ]
    },
    {
     "name": "stderr",
     "output_type": "stream",
     "text": [
      "c:\\Users\\omuni\\AppData\\Local\\Programs\\Python\\Python312\\Lib\\site-packages\\sklearn\\base.py:493: UserWarning: X does not have valid feature names, but RandomForestClassifier was fitted with feature names\n",
      "  warnings.warn(\n"
     ]
    }
   ],
   "source": [
    "new_features = [[30, 135, 180, 20.66024, 84.3189, 6.3991, 114.9263]]\n",
    "predicted_crop = random_forest.predict(new_features)\n",
    "print(\"Predicted crop : \", predicted_crop)"
   ]
  },
  {
   "cell_type": "code",
   "execution_count": 44,
   "id": "b59e31b3-44ff-48ec-886e-d82f808fc607",
   "metadata": {},
   "outputs": [],
   "source": [
    "import pickle"
   ]
  },
  {
   "cell_type": "code",
   "execution_count": 46,
   "id": "c57f62b3-4da4-4844-ade7-127e3465855c",
   "metadata": {},
   "outputs": [],
   "source": [
    "pickle.dump(random_forest, open(\"model.pkl\", \"wb\"))"
   ]
  }
 ],
 "metadata": {
  "kernelspec": {
   "display_name": "Python 3",
   "language": "python",
   "name": "python3"
  },
  "language_info": {
   "codemirror_mode": {
    "name": "ipython",
    "version": 3
   },
   "file_extension": ".py",
   "mimetype": "text/x-python",
   "name": "python",
   "nbconvert_exporter": "python",
   "pygments_lexer": "ipython3",
   "version": "3.12.2"
  }
 },
 "nbformat": 4,
 "nbformat_minor": 5
}
